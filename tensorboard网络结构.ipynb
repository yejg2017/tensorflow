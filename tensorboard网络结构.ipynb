{
 "cells": [
  {
   "cell_type": "code",
   "execution_count": 1,
   "metadata": {
    "collapsed": true
   },
   "outputs": [],
   "source": [
    "import tensorflow as tf\n",
    "from tensorflow.examples.tutorials.mnist import input_data"
   ]
  },
  {
   "cell_type": "code",
   "execution_count": 11,
   "metadata": {
    "collapsed": false
   },
   "outputs": [
    {
     "name": "stdout",
     "output_type": "stream",
     "text": [
      "Extracting MNIST_data/train-images-idx3-ubyte.gz\n",
      "Extracting MNIST_data/train-labels-idx1-ubyte.gz\n",
      "Extracting MNIST_data/t10k-images-idx3-ubyte.gz\n",
      "Extracting MNIST_data/t10k-labels-idx1-ubyte.gz\n",
      "Iter0,Testing Accuracy:0.8234\n",
      "Iter1,Testing Accuracy:0.8788\n",
      "Iter2,Testing Accuracy:0.8995\n",
      "Iter3,Testing Accuracy:0.9038\n",
      "Iter4,Testing Accuracy:0.9077\n",
      "Iter5,Testing Accuracy:0.9095\n",
      "Iter6,Testing Accuracy:0.9122\n",
      "Iter7,Testing Accuracy:0.9133\n",
      "Iter8,Testing Accuracy:0.9153\n",
      "Iter9,Testing Accuracy:0.9165\n",
      "Iter10,Testing Accuracy:0.918\n"
     ]
    }
   ],
   "source": [
    "#载入数据\n",
    "mnist=input_data.read_data_sets('MNIST_data',one_hot=True)\n",
    "\n",
    "#每个批次的大小\n",
    "batch_size=100\n",
    "#计算多少个批次\n",
    "n_batch=mnist.train.num_examples//batch_size\n",
    "\n",
    "\n",
    "#定义两个占位符\n",
    "\n",
    "with tf.name_scope('input'):\n",
    "    x=tf.placeholder(shape=[None,784],dtype=tf.float32,name='x_input')\n",
    "    y=tf.placeholder(shape=[None,10],dtype=tf.float32,name='y_input')\n",
    "     \n",
    "#创建一个简单的神经网络\n",
    "with tf.name_scope('layer'):\n",
    "    with tf.name_scope('weight'):\n",
    "        w=tf.Variable(tf.zeros(shape=[784,10]))\n",
    "    \n",
    "    with tf.name_scope('biases'):\n",
    "        b=tf.Variable(tf.zeros(shape=[10]))\n",
    "        \n",
    "    with tf.name_scope('preidicton'):\n",
    "        prediction=tf.nn.softmax(tf.matmul(x,w)+b)\n",
    "        \n",
    "#二次代价函数\n",
    "with tf.name_scope('train'):\n",
    "    with tf.name_scope('loss'):\n",
    "       loss=tf.reduce_mean(tf.nn.softmax_cross_entropy_with_logits(\n",
    "                   labels=y,logits=prediction))\n",
    "    with tf.name_scope('train_step'):\n",
    "       #使用梯度下降法\n",
    "       train_step=tf.train.GradientDescentOptimizer(0.2).minimize(loss)\n",
    "\n",
    "#初始化变量\n",
    "init=tf.global_variables_initializer()\n",
    "\n",
    "#结果存在一个bool列表中\n",
    "with tf.name_scope('accuracy'):\n",
    "    with tf.name_scope('correct_prediction'):\n",
    "         correct_prediction=tf.equal(tf.argmax(y,1),tf.argmax(prediction,1))\n",
    "    \n",
    "    with tf.name_scope('accuracy'):\n",
    "         #求准确率\n",
    "         accuracy=tf.reduce_mean(tf.cast(correct_prediction,dtype=tf.float32))\n",
    "        \n",
    "        \n",
    "with tf.Session() as sess:\n",
    "    sess.run(init)\n",
    "    writer=tf.summary.FileWriter('logs/',sess.graph) #将图写入该路径中\n",
    "    for epoch in range(11):\n",
    "        for batch in range(n_batch):\n",
    "            batch_xs,batch_ys=mnist.train.next_batch(batch_size)\n",
    "            sess.run(train_step,feed_dict={\n",
    "                x:batch_xs,\n",
    "                y:batch_ys\n",
    "            })\n",
    "        acc=sess.run(accuracy,feed_dict={x:mnist.test.images,y:mnist.test.labels})\n",
    "        print('Iter'+str(epoch)+',Testing Accuracy:'+str(acc)) \n",
    "        # $tensorboard --logdir=logs"
   ]
  },
  {
   "cell_type": "code",
   "execution_count": null,
   "metadata": {
    "collapsed": true
   },
   "outputs": [],
   "source": []
  }
 ],
 "metadata": {
  "kernelspec": {
   "display_name": "Python 2",
   "language": "python",
   "name": "python2"
  },
  "language_info": {
   "codemirror_mode": {
    "name": "ipython",
    "version": 2
   },
   "file_extension": ".py",
   "mimetype": "text/x-python",
   "name": "python",
   "nbconvert_exporter": "python",
   "pygments_lexer": "ipython2",
   "version": "2.7.13"
  }
 },
 "nbformat": 4,
 "nbformat_minor": 2
}
